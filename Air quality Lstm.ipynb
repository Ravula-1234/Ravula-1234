{
 "cells": [
  {
   "cell_type": "markdown",
   "id": "b6a33b45-b23f-4274-949a-b326fe345395",
   "metadata": {},
   "source": [
    "# Import Libraries"
   ]
  },
  {
   "cell_type": "code",
   "execution_count": 2,
   "id": "2d27a40f-35ed-433c-adb4-d4d65abab7ef",
   "metadata": {},
   "outputs": [],
   "source": [
    "import pandas as pd  # Importing pandas for data manipulation\n",
    "import numpy as np  # Importing numpy for numerical operations\n",
    "from sklearn.preprocessing import LabelEncoder, MinMaxScaler  # Importing LabelEncoder and MinMaxScaler for preprocessing\n",
    "from tensorflow.keras.models import Sequential  # Importing Sequential for creating a neural network model\n",
    "from tensorflow.keras.layers import LSTM, Dense  # Importing LSTM and Dense layers for building the model\n",
    "import matplotlib.pyplot as plt  # Importing matplotlib for plotting\n"
   ]
  },
  {
   "cell_type": "markdown",
   "id": "8af39d6c-a65a-465e-9b37-ec020826b7e6",
   "metadata": {},
   "source": [
    "# Load and Preprocess the Dataset"
   ]
  },
  {
   "cell_type": "code",
   "execution_count": 4,
   "id": "c8a8e6a0-449c-414f-b7d9-54413655b0f7",
   "metadata": {},
   "outputs": [
    {
     "data": {
      "text/html": [
       "<div>\n",
       "<style scoped>\n",
       "    .dataframe tbody tr th:only-of-type {\n",
       "        vertical-align: middle;\n",
       "    }\n",
       "\n",
       "    .dataframe tbody tr th {\n",
       "        vertical-align: top;\n",
       "    }\n",
       "\n",
       "    .dataframe thead th {\n",
       "        text-align: right;\n",
       "    }\n",
       "</style>\n",
       "<table border=\"1\" class=\"dataframe\">\n",
       "  <thead>\n",
       "    <tr style=\"text-align: right;\">\n",
       "      <th></th>\n",
       "      <th>No</th>\n",
       "      <th>year</th>\n",
       "      <th>month</th>\n",
       "      <th>day</th>\n",
       "      <th>hour</th>\n",
       "      <th>pm2.5</th>\n",
       "      <th>DEWP</th>\n",
       "      <th>TEMP</th>\n",
       "      <th>PRES</th>\n",
       "      <th>cbwd</th>\n",
       "      <th>Iws</th>\n",
       "      <th>Is</th>\n",
       "      <th>Ir</th>\n",
       "    </tr>\n",
       "  </thead>\n",
       "  <tbody>\n",
       "    <tr>\n",
       "      <th>0</th>\n",
       "      <td>1</td>\n",
       "      <td>2010</td>\n",
       "      <td>1</td>\n",
       "      <td>1</td>\n",
       "      <td>0</td>\n",
       "      <td>NaN</td>\n",
       "      <td>-21</td>\n",
       "      <td>-11.0</td>\n",
       "      <td>1021.0</td>\n",
       "      <td>NW</td>\n",
       "      <td>1.79</td>\n",
       "      <td>0</td>\n",
       "      <td>0</td>\n",
       "    </tr>\n",
       "    <tr>\n",
       "      <th>1</th>\n",
       "      <td>2</td>\n",
       "      <td>2010</td>\n",
       "      <td>1</td>\n",
       "      <td>1</td>\n",
       "      <td>1</td>\n",
       "      <td>NaN</td>\n",
       "      <td>-21</td>\n",
       "      <td>-12.0</td>\n",
       "      <td>1020.0</td>\n",
       "      <td>NW</td>\n",
       "      <td>4.92</td>\n",
       "      <td>0</td>\n",
       "      <td>0</td>\n",
       "    </tr>\n",
       "    <tr>\n",
       "      <th>2</th>\n",
       "      <td>3</td>\n",
       "      <td>2010</td>\n",
       "      <td>1</td>\n",
       "      <td>1</td>\n",
       "      <td>2</td>\n",
       "      <td>NaN</td>\n",
       "      <td>-21</td>\n",
       "      <td>-11.0</td>\n",
       "      <td>1019.0</td>\n",
       "      <td>NW</td>\n",
       "      <td>6.71</td>\n",
       "      <td>0</td>\n",
       "      <td>0</td>\n",
       "    </tr>\n",
       "    <tr>\n",
       "      <th>3</th>\n",
       "      <td>4</td>\n",
       "      <td>2010</td>\n",
       "      <td>1</td>\n",
       "      <td>1</td>\n",
       "      <td>3</td>\n",
       "      <td>NaN</td>\n",
       "      <td>-21</td>\n",
       "      <td>-14.0</td>\n",
       "      <td>1019.0</td>\n",
       "      <td>NW</td>\n",
       "      <td>9.84</td>\n",
       "      <td>0</td>\n",
       "      <td>0</td>\n",
       "    </tr>\n",
       "    <tr>\n",
       "      <th>4</th>\n",
       "      <td>5</td>\n",
       "      <td>2010</td>\n",
       "      <td>1</td>\n",
       "      <td>1</td>\n",
       "      <td>4</td>\n",
       "      <td>NaN</td>\n",
       "      <td>-20</td>\n",
       "      <td>-12.0</td>\n",
       "      <td>1018.0</td>\n",
       "      <td>NW</td>\n",
       "      <td>12.97</td>\n",
       "      <td>0</td>\n",
       "      <td>0</td>\n",
       "    </tr>\n",
       "  </tbody>\n",
       "</table>\n",
       "</div>"
      ],
      "text/plain": [
       "   No  year  month  day  hour  pm2.5  DEWP  TEMP    PRES cbwd    Iws  Is  Ir\n",
       "0   1  2010      1    1     0    NaN   -21 -11.0  1021.0   NW   1.79   0   0\n",
       "1   2  2010      1    1     1    NaN   -21 -12.0  1020.0   NW   4.92   0   0\n",
       "2   3  2010      1    1     2    NaN   -21 -11.0  1019.0   NW   6.71   0   0\n",
       "3   4  2010      1    1     3    NaN   -21 -14.0  1019.0   NW   9.84   0   0\n",
       "4   5  2010      1    1     4    NaN   -20 -12.0  1018.0   NW  12.97   0   0"
      ]
     },
     "execution_count": 4,
     "metadata": {},
     "output_type": "execute_result"
    }
   ],
   "source": [
    "dataset = pd.read_csv('C:\\\\Users\\\\sravanthi\\\\OneDrive\\\\Desktop\\\\DS\\\\PRSA_data_2010.1.1-2014.12.31.csv')\n",
    "dataset.head()"
   ]
  },
  {
   "cell_type": "markdown",
   "id": "f7f2b71c-feb7-4382-bd65-ae9190ebad4e",
   "metadata": {},
   "source": [
    "# Handle Missing Values"
   ]
  },
  {
   "cell_type": "code",
   "execution_count": 6,
   "id": "284b759b-46d2-42b9-848c-099eecd5c7cc",
   "metadata": {},
   "outputs": [
    {
     "name": "stderr",
     "output_type": "stream",
     "text": [
      "C:\\Users\\sravanthi\\AppData\\Local\\Temp\\ipykernel_27820\\3361980194.py:1: FutureWarning: A value is trying to be set on a copy of a DataFrame or Series through chained assignment using an inplace method.\n",
      "The behavior will change in pandas 3.0. This inplace method will never work because the intermediate object on which we are setting values always behaves as a copy.\n",
      "\n",
      "For example, when doing 'df[col].method(value, inplace=True)', try using 'df.method({col: value}, inplace=True)' or df[col] = df[col].method(value) instead, to perform the operation inplace on the original object.\n",
      "\n",
      "\n",
      "  dataset['pm2.5'].fillna(dataset['pm2.5'].median(), inplace=True)\n"
     ]
    }
   ],
   "source": [
    "dataset['pm2.5'].fillna(dataset['pm2.5'].median(), inplace=True)\n"
   ]
  },
  {
   "cell_type": "markdown",
   "id": "f195df88-75c5-4a68-a9c9-e3030fef9e32",
   "metadata": {},
   "source": [
    "# Encode Categorical Variables"
   ]
  },
  {
   "cell_type": "code",
   "execution_count": 8,
   "id": "7cf6d954-16fb-4816-9104-74bd7d1ab440",
   "metadata": {},
   "outputs": [],
   "source": [
    "encoder = LabelEncoder()\n",
    "dataset['cbwd'] = encoder.fit_transform(dataset['cbwd'])\n"
   ]
  },
  {
   "cell_type": "markdown",
   "id": "5287e3f8-e65f-473a-b15e-0ce0306bc3d8",
   "metadata": {},
   "source": [
    "# Drop Unnecessary Columns"
   ]
  },
  {
   "cell_type": "code",
   "execution_count": 10,
   "id": "6d87b020-7a1d-4ce7-a0c4-34544044d774",
   "metadata": {},
   "outputs": [],
   "source": [
    "dataset.drop(columns=['No', 'year', 'month', 'day', 'hour'], inplace=True)\n"
   ]
  },
  {
   "cell_type": "markdown",
   "id": "3e002660-83ac-4639-b650-3f750e801229",
   "metadata": {},
   "source": [
    "# Normalize the Data"
   ]
  },
  {
   "cell_type": "code",
   "execution_count": 12,
   "id": "2b9cf982-d40c-46b2-94fc-2df5a25bd894",
   "metadata": {},
   "outputs": [],
   "source": [
    "scaler = MinMaxScaler(feature_range=(0, 1))\n",
    "scaled_data = scaler.fit_transform(dataset.values)\n"
   ]
  },
  {
   "cell_type": "markdown",
   "id": "2054b334-a455-4d76-b9cf-3f7e917121b5",
   "metadata": {},
   "source": [
    "# Convert the Series to a Supervised Learning Problem"
   ]
  },
  {
   "cell_type": "code",
   "execution_count": 14,
   "id": "1dd33ef7-b18b-4224-9a76-174f195990a2",
   "metadata": {},
   "outputs": [],
   "source": [
    "def series_to_supervised(data, n_in=1, n_out=1, dropnan=True):\n",
    "    n_vars = data.shape[1]\n",
    "    df = pd.DataFrame(data)\n",
    "    cols, names = [], []\n",
    "    # Input sequence (t-n, ..., t-1)\n",
    "    for i in range(n_in, 0, -1):\n",
    "        cols.append(df.shift(i))\n",
    "        names += [('var%d(t-%d)' % (j+1, i)) for j in range(n_vars)]\n",
    "    # Forecast sequence (t, t+1, ..., t+n)\n",
    "    for i in range(0, n_out):\n",
    "        cols.append(df.shift(-i))\n",
    "        if i == 0:\n",
    "            names += [('var%d(t)' % (j+1)) for j in range(n_vars)]\n",
    "        else:\n",
    "            names += [('var%d(t+%d)' % (j+1, i)) for j in range(n_vars)]\n",
    "    # Concatenate and drop rows with NaN\n",
    "    agg = pd.concat(cols, axis=1)\n",
    "    agg.columns = names\n",
    "    if dropnan:\n",
    "        agg.dropna(inplace=True)\n",
    "    return agg\n"
   ]
  },
  {
   "cell_type": "markdown",
   "id": "0d492ca7-899f-4c18-938d-ba9710187ed7",
   "metadata": {},
   "source": [
    "# Frame as Supervised Learning Problem\n"
   ]
  },
  {
   "cell_type": "code",
   "execution_count": 16,
   "id": "f155cbc4-7493-4f29-a185-13a059ed8e82",
   "metadata": {},
   "outputs": [],
   "source": [
    "reframed = series_to_supervised(scaled_data, 1, 1)\n"
   ]
  },
  {
   "cell_type": "markdown",
   "id": "c707fa41-acc8-4238-8ef4-73b2a4d88c82",
   "metadata": {},
   "source": [
    "# Drop Unnecessary Columns"
   ]
  },
  {
   "cell_type": "code",
   "execution_count": 18,
   "id": "ddcd797b-da3b-4581-9eb8-76e3951c0e5a",
   "metadata": {},
   "outputs": [],
   "source": [
    "reframed.drop(reframed.columns[[9, 10, 11, 12, 13, 14]], axis=1, inplace=True)\n"
   ]
  },
  {
   "cell_type": "markdown",
   "id": "3e3d5443-5981-40bb-ae15-035451a3d94a",
   "metadata": {},
   "source": [
    "# Split the Data into Train and Test Sets"
   ]
  },
  {
   "cell_type": "code",
   "execution_count": 20,
   "id": "c0d9c97e-c37e-4485-a374-ce1e1b676786",
   "metadata": {},
   "outputs": [],
   "source": [
    "values = reframed.values\n",
    "n_train_hours = 365 * 24  # Use one year of data for training\n",
    "train = values[:n_train_hours, :]\n",
    "test = values[n_train_hours:, :]\n"
   ]
  },
  {
   "cell_type": "code",
   "execution_count": 21,
   "id": "42926209-47ff-461c-b9af-62fdd2b73dd4",
   "metadata": {},
   "outputs": [],
   "source": [
    "#Split into Inputs (X) and Outputs (y)\n",
    "train_X, train_y = train[:, :-1], train[:, -1]\n",
    "test_X, test_y = test[:, :-1], test[:, -1]\n"
   ]
  },
  {
   "cell_type": "markdown",
   "id": "fbf29611-f439-4fc7-b4f7-240768620c6a",
   "metadata": {},
   "source": [
    "# Reshape Input Data for LSTM"
   ]
  },
  {
   "cell_type": "code",
   "execution_count": 23,
   "id": "78c5f066-6bec-4ef8-803b-fb9b9a887a0c",
   "metadata": {},
   "outputs": [],
   "source": [
    "train_X = train_X.reshape((train_X.shape[0], 1, train_X.shape[1]))\n",
    "test_X = test_X.reshape((test_X.shape[0], 1, test_X.shape[1]))\n"
   ]
  },
  {
   "cell_type": "markdown",
   "id": "e8d48547-f8ea-4324-9e8a-b076ee11bc9d",
   "metadata": {},
   "source": [
    "# Design the LSTM Model"
   ]
  },
  {
   "cell_type": "code",
   "execution_count": 25,
   "id": "e3041394-f766-42e0-9abf-7946a4a53924",
   "metadata": {},
   "outputs": [
    {
     "name": "stderr",
     "output_type": "stream",
     "text": [
      "C:\\Users\\sravanthi\\anaconda3\\Lib\\site-packages\\keras\\src\\layers\\rnn\\rnn.py:204: UserWarning: Do not pass an `input_shape`/`input_dim` argument to a layer. When using Sequential models, prefer using an `Input(shape)` object as the first layer in the model instead.\n",
      "  super().__init__(**kwargs)\n"
     ]
    }
   ],
   "source": [
    "model = Sequential()\n",
    "model.add(LSTM(50, input_shape=(train_X.shape[1], train_X.shape[2])))\n",
    "model.add(Dense(1))\n",
    "model.compile(optimizer='adam', loss='mae')\n"
   ]
  },
  {
   "cell_type": "markdown",
   "id": "405dffbc-ddf8-4377-9f6e-f5089b59a239",
   "metadata": {},
   "source": [
    "# Train the Model"
   ]
  },
  {
   "cell_type": "code",
   "execution_count": 27,
   "id": "39ca0ffc-de29-4a7c-83b7-fca6e493cbed",
   "metadata": {},
   "outputs": [
    {
     "name": "stdout",
     "output_type": "stream",
     "text": [
      "Epoch 1/50\n",
      "122/122 - 6s - 50ms/step - loss: 0.0103 - val_loss: 0.0072\n",
      "Epoch 2/50\n",
      "122/122 - 1s - 10ms/step - loss: 0.0080 - val_loss: 0.0054\n",
      "Epoch 3/50\n",
      "122/122 - 1s - 10ms/step - loss: 0.0073 - val_loss: 0.0060\n",
      "Epoch 4/50\n",
      "122/122 - 1s - 11ms/step - loss: 0.0073 - val_loss: 0.0063\n",
      "Epoch 5/50\n",
      "122/122 - 1s - 11ms/step - loss: 0.0073 - val_loss: 0.0065\n",
      "Epoch 6/50\n",
      "122/122 - 1s - 11ms/step - loss: 0.0066 - val_loss: 0.0044\n",
      "Epoch 7/50\n",
      "122/122 - 1s - 12ms/step - loss: 0.0076 - val_loss: 0.0073\n",
      "Epoch 8/50\n",
      "122/122 - 2s - 20ms/step - loss: 0.0066 - val_loss: 0.0066\n",
      "Epoch 9/50\n",
      "122/122 - 1s - 11ms/step - loss: 0.0062 - val_loss: 0.0042\n",
      "Epoch 10/50\n",
      "122/122 - 1s - 9ms/step - loss: 0.0055 - val_loss: 0.0037\n",
      "Epoch 11/50\n",
      "122/122 - 1s - 9ms/step - loss: 0.0049 - val_loss: 0.0048\n",
      "Epoch 12/50\n",
      "122/122 - 1s - 10ms/step - loss: 0.0041 - val_loss: 0.0044\n",
      "Epoch 13/50\n",
      "122/122 - 1s - 9ms/step - loss: 0.0042 - val_loss: 0.0035\n",
      "Epoch 14/50\n",
      "122/122 - 1s - 9ms/step - loss: 0.0037 - val_loss: 0.0034\n",
      "Epoch 15/50\n",
      "122/122 - 1s - 9ms/step - loss: 0.0039 - val_loss: 0.0034\n",
      "Epoch 16/50\n",
      "122/122 - 2s - 13ms/step - loss: 0.0039 - val_loss: 0.0038\n",
      "Epoch 17/50\n",
      "122/122 - 1s - 11ms/step - loss: 0.0044 - val_loss: 0.0038\n",
      "Epoch 18/50\n",
      "122/122 - 1s - 9ms/step - loss: 0.0041 - val_loss: 0.0059\n",
      "Epoch 19/50\n",
      "122/122 - 1s - 9ms/step - loss: 0.0038 - val_loss: 0.0046\n",
      "Epoch 20/50\n",
      "122/122 - 1s - 9ms/step - loss: 0.0044 - val_loss: 0.0034\n",
      "Epoch 21/50\n",
      "122/122 - 1s - 9ms/step - loss: 0.0042 - val_loss: 0.0040\n",
      "Epoch 22/50\n",
      "122/122 - 1s - 9ms/step - loss: 0.0039 - val_loss: 0.0026\n",
      "Epoch 23/50\n",
      "122/122 - 1s - 9ms/step - loss: 0.0040 - val_loss: 0.0029\n",
      "Epoch 24/50\n",
      "122/122 - 1s - 10ms/step - loss: 0.0038 - val_loss: 0.0028\n",
      "Epoch 25/50\n",
      "122/122 - 1s - 9ms/step - loss: 0.0042 - val_loss: 0.0029\n",
      "Epoch 26/50\n",
      "122/122 - 1s - 9ms/step - loss: 0.0042 - val_loss: 0.0036\n",
      "Epoch 27/50\n",
      "122/122 - 1s - 9ms/step - loss: 0.0041 - val_loss: 0.0029\n",
      "Epoch 28/50\n",
      "122/122 - 1s - 9ms/step - loss: 0.0038 - val_loss: 0.0056\n",
      "Epoch 29/50\n",
      "122/122 - 1s - 9ms/step - loss: 0.0035 - val_loss: 0.0043\n",
      "Epoch 30/50\n",
      "122/122 - 1s - 11ms/step - loss: 0.0038 - val_loss: 0.0070\n",
      "Epoch 31/50\n",
      "122/122 - 1s - 9ms/step - loss: 0.0052 - val_loss: 0.0049\n",
      "Epoch 32/50\n",
      "122/122 - 1s - 9ms/step - loss: 0.0035 - val_loss: 0.0031\n",
      "Epoch 33/50\n",
      "122/122 - 1s - 10ms/step - loss: 0.0044 - val_loss: 0.0039\n",
      "Epoch 34/50\n",
      "122/122 - 1s - 11ms/step - loss: 0.0039 - val_loss: 0.0032\n",
      "Epoch 35/50\n",
      "122/122 - 1s - 9ms/step - loss: 0.0035 - val_loss: 0.0032\n",
      "Epoch 36/50\n",
      "122/122 - 1s - 9ms/step - loss: 0.0039 - val_loss: 0.0040\n",
      "Epoch 37/50\n",
      "122/122 - 1s - 10ms/step - loss: 0.0038 - val_loss: 0.0037\n",
      "Epoch 38/50\n",
      "122/122 - 1s - 11ms/step - loss: 0.0035 - val_loss: 0.0026\n",
      "Epoch 39/50\n",
      "122/122 - 1s - 9ms/step - loss: 0.0037 - val_loss: 0.0029\n",
      "Epoch 40/50\n",
      "122/122 - 1s - 9ms/step - loss: 0.0032 - val_loss: 0.0035\n",
      "Epoch 41/50\n",
      "122/122 - 2s - 13ms/step - loss: 0.0036 - val_loss: 0.0030\n",
      "Epoch 42/50\n",
      "122/122 - 1s - 11ms/step - loss: 0.0039 - val_loss: 0.0032\n",
      "Epoch 43/50\n",
      "122/122 - 1s - 11ms/step - loss: 0.0036 - val_loss: 0.0045\n",
      "Epoch 44/50\n",
      "122/122 - 1s - 10ms/step - loss: 0.0034 - val_loss: 0.0036\n",
      "Epoch 45/50\n",
      "122/122 - 1s - 9ms/step - loss: 0.0035 - val_loss: 0.0029\n",
      "Epoch 46/50\n",
      "122/122 - 1s - 10ms/step - loss: 0.0042 - val_loss: 0.0034\n",
      "Epoch 47/50\n",
      "122/122 - 1s - 9ms/step - loss: 0.0037 - val_loss: 0.0035\n",
      "Epoch 48/50\n",
      "122/122 - 1s - 9ms/step - loss: 0.0035 - val_loss: 0.0031\n",
      "Epoch 49/50\n",
      "122/122 - 1s - 9ms/step - loss: 0.0037 - val_loss: 0.0040\n",
      "Epoch 50/50\n",
      "122/122 - 1s - 9ms/step - loss: 0.0032 - val_loss: 0.0027\n"
     ]
    }
   ],
   "source": [
    "history = model.fit(train_X, train_y, epochs=50, batch_size=72, validation_data=(test_X, test_y), verbose=2, shuffle=False)\n"
   ]
  },
  {
   "cell_type": "markdown",
   "id": "22a870f6-1a9f-4ce5-b424-a2a3b5710a32",
   "metadata": {},
   "source": [
    "# Plot the Training and Validation Loss"
   ]
  },
  {
   "cell_type": "code",
   "execution_count": 29,
   "id": "837ac1b3-3221-4e6d-8b06-8eca23551acb",
   "metadata": {},
   "outputs": [
    {
     "data": {
      "image/png": "[encoded data removed]",
      "text/plain": [
       "<Figure size 640x480 with 1 Axes>"
      ]
     },
     "metadata": {},
     "output_type": "display_data"
    }
   ],
   "source": [
    "plt.plot(history.history['loss'], label='train')\n",
    "plt.plot(history.history['val_loss'], label='test')\n",
    "plt.legend()\n",
    "plt.show()\n"
   ]
  },
  {
   "cell_type": "markdown",
   "id": "f62e03b6-b09d-4cec-828e-ad801a160e84",
   "metadata": {},
   "source": [
    "# Make Predictions"
   ]
  },
  {
   "cell_type": "code",
   "execution_count": 31,
   "id": "76906ba8-4b4b-4875-aaa4-e68c4b75d80e",
   "metadata": {},
   "outputs": [
    {
     "name": "stdout",
     "output_type": "stream",
     "text": [
      "\u001b[1m1096/1096\u001b[0m \u001b[32m━━━━━━━━━━━━━━━━━━━━\u001b[0m\u001b[37m\u001b[0m \u001b[1m3s\u001b[0m 2ms/step\n"
     ]
    }
   ],
   "source": [
    "yhat = model.predict(test_X)\n"
   ]
  },
  {
   "cell_type": "markdown",
   "id": "36236888-02bb-413a-845f-a5a6209d0efd",
   "metadata": {},
   "source": [
    "# Invert Scaling for Forecast"
   ]
  },
  {
   "cell_type": "code",
   "execution_count": 33,
   "id": "fd3f5c25-a729-43ed-8c41-20569a9c0d36",
   "metadata": {},
   "outputs": [],
   "source": [
    "# Reshape test_X to 2D (samples, features)\n",
    "test_X = test_X.reshape((test_X.shape[0], test_X.shape[2]))\n"
   ]
  },
  {
   "cell_type": "code",
   "execution_count": 34,
   "id": "62c6aa9b-4e7d-4049-be4c-e7216b08268f",
   "metadata": {},
   "outputs": [],
   "source": [
    "inv_yhat = np.concatenate((yhat, test_X[:, 1:]), axis=1)\n",
    "inv_yhat = scaler.inverse_transform(inv_yhat[:, :8])  # Only the first 8 columns\n",
    "inv_yhat = inv_yhat[:, 0]\n"
   ]
  },
  {
   "cell_type": "markdown",
   "id": "088d3fc8-5cbe-4fee-9545-939797374376",
   "metadata": {},
   "source": [
    "# Invert Scaling for Actual Values"
   ]
  },
  {
   "cell_type": "code",
   "execution_count": 36,
   "id": "c43d2232-e0d3-47b3-bb6a-9d2b35f26093",
   "metadata": {},
   "outputs": [],
   "source": [
    "test_y = test_y.reshape((len(test_y), 1))\n",
    "inv_y = np.concatenate((test_y, test_X[:, 1:]), axis=1)\n",
    "inv_y = scaler.inverse_transform(inv_y[:, :8])  # Only the first 8 columns\n",
    "inv_y = inv_y[:, 0]\n"
   ]
  },
  {
   "cell_type": "markdown",
   "id": "24395c44-7b06-41ca-bc5d-1cf7bb74581b",
   "metadata": {},
   "source": [
    "# Calculate RMSE"
   ]
  },
  {
   "cell_type": "code",
   "execution_count": 38,
   "id": "a5626029-e5b7-47fa-a2f5-a6a9a30f53fc",
   "metadata": {},
   "outputs": [
    {
     "name": "stdout",
     "output_type": "stream",
     "text": [
      "Test RMSE: 17.836\n"
     ]
    }
   ],
   "source": [
    "rmse = np.sqrt(np.mean((inv_yhat - inv_y)**2))\n",
    "print(f'Test RMSE: {rmse:.3f}')\n"
   ]
  },
  {
   "cell_type": "markdown",
   "id": "7d440748-3f88-4056-bc6a-2762da085570",
   "metadata": {},
   "source": [
    "# Plot Actual vs Predicted Values"
   ]
  },
  {
   "cell_type": "code",
   "execution_count": 40,
   "id": "c97578d8-be7c-42ab-af9a-c7230af97807",
   "metadata": {},
   "outputs": [
    {
     "data": {
      "image/png": "[encoded data removed]",
      "text/plain": [
       "<Figure size 640x480 with 1 Axes>"
      ]
     },
     "metadata": {},
     "output_type": "display_data"
    }
   ],
   "source": [
    "\n",
    "# Plotting the actual vs predicted values\n",
    "plt.plot(inv_y[:100], label='Actual')\n",
    "plt.plot(inv_yhat[:100], label='Predicted')\n",
    "plt.legend()\n",
    "plt.show()\n"
   ]
  },
  {
   "cell_type": "code",
   "execution_count": 41,
   "id": "4835d6e1-e669-4d68-b3cc-006899e591db",
   "metadata": {},
   "outputs": [
    {
     "name": "stdout",
     "output_type": "stream",
     "text": [
      "R² score: 0.753\n"
     ]
    }
   ],
   "source": [
    "from sklearn.metrics import r2_score\n",
    "\n",
    "# Calculate R² score\n",
    "r2 = r2_score(inv_y, inv_yhat)\n",
    "print(f'R² score: {r2:.3f}')\n"
   ]
  },
  {
   "cell_type": "code",
   "execution_count": 42,
   "id": "971aa506-9efe-41d4-88b0-cfa22e4a1412",
   "metadata": {},
   "outputs": [
    {
     "name": "stdout",
     "output_type": "stream",
     "text": [
      "Custom Accuracy: 1.18%\n"
     ]
    },
    {
     "name": "stderr",
     "output_type": "stream",
     "text": [
      "C:\\Users\\sravanthi\\AppData\\Local\\Temp\\ipykernel_27820\\1957903195.py:1: RuntimeWarning: divide by zero encountered in divide\n",
      "  accuracy = np.mean(np.abs((inv_yhat - inv_y) / inv_y) < 0.1)  # Example threshold: within 10%\n"
     ]
    }
   ],
   "source": [
    "accuracy = np.mean(np.abs((inv_yhat - inv_y) / inv_y) < 0.1)  # Example threshold: within 10%\n",
    "accuracy *= 100  # Convert to percentage\n",
    "print(f'Custom Accuracy: {accuracy:.2f}%')\n"
   ]
  },
  {
   "cell_type": "code",
   "execution_count": null,
   "id": "f9b5fdea-eeee-428c-af21-bca35f059d24",
   "metadata": {},
   "outputs": [],
   "source": []
  }
 ],
 "metadata": {
  "kernelspec": {
   "display_name": "Python 3 (ipykernel)",
   "language": "python",
   "name": "python3"
  },
  "language_info": {
   "codemirror_mode": {
    "name": "ipython",
    "version": 3
   },
   "file_extension": ".py",
   "mimetype": "text/x-python",
   "name": "python",
   "nbconvert_exporter": "python",
   "pygments_lexer": "ipython3",
   "version": "3.12.4"
  }
 },
 "nbformat": 4,
 "nbformat_minor": 5
}
