{
 "cells": [
  {
   "cell_type": "markdown",
   "id": "dffe6cdc-49fb-4f7e-b24a-68ab45f94acb",
   "metadata": {},
   "source": [
    "# Installing langchain"
   ]
  },
  {
   "cell_type": "code",
   "execution_count": 3,
   "id": "ba28a5c1-35ca-4fb4-9566-b86bfee62d62",
   "metadata": {},
   "outputs": [
    {
     "name": "stdout",
     "output_type": "stream",
     "text": [
      "Requirement already satisfied: langchain in c:\\users\\sravanthi\\anaconda3\\lib\\site-packages (0.3.0)\n",
      "Requirement already satisfied: PyYAML>=5.3 in c:\\users\\sravanthi\\anaconda3\\lib\\site-packages (from langchain) (6.0.1)\n",
      "Requirement already satisfied: SQLAlchemy<3,>=1.4 in c:\\users\\sravanthi\\anaconda3\\lib\\site-packages (from langchain) (2.0.30)\n",
      "Requirement already satisfied: aiohttp<4.0.0,>=3.8.3 in c:\\users\\sravanthi\\anaconda3\\lib\\site-packages (from langchain) (3.9.5)\n",
      "Requirement already satisfied: langchain-core<0.4.0,>=0.3.0 in c:\\users\\sravanthi\\anaconda3\\lib\\site-packages (from langchain) (0.3.0)\n",
      "Requirement already satisfied: langchain-text-splitters<0.4.0,>=0.3.0 in c:\\users\\sravanthi\\anaconda3\\lib\\site-packages (from langchain) (0.3.0)\n",
      "Requirement already satisfied: langsmith<0.2.0,>=0.1.17 in c:\\users\\sravanthi\\anaconda3\\lib\\site-packages (from langchain) (0.1.120)\n",
      "Requirement already satisfied: numpy<2.0.0,>=1.26.0 in c:\\users\\sravanthi\\anaconda3\\lib\\site-packages (from langchain) (1.26.4)\n",
      "Requirement already satisfied: pydantic<3.0.0,>=2.7.4 in c:\\users\\sravanthi\\anaconda3\\lib\\site-packages (from langchain) (2.9.1)\n",
      "Requirement already satisfied: requests<3,>=2 in c:\\users\\sravanthi\\anaconda3\\lib\\site-packages (from langchain) (2.32.2)\n",
      "Requirement already satisfied: tenacity!=8.4.0,<9.0.0,>=8.1.0 in c:\\users\\sravanthi\\anaconda3\\lib\\site-packages (from langchain) (8.2.2)\n",
      "Requirement already satisfied: aiosignal>=1.1.2 in c:\\users\\sravanthi\\anaconda3\\lib\\site-packages (from aiohttp<4.0.0,>=3.8.3->langchain) (1.2.0)\n",
      "Requirement already satisfied: attrs>=17.3.0 in c:\\users\\sravanthi\\anaconda3\\lib\\site-packages (from aiohttp<4.0.0,>=3.8.3->langchain) (23.1.0)\n",
      "Requirement already satisfied: frozenlist>=1.1.1 in c:\\users\\sravanthi\\anaconda3\\lib\\site-packages (from aiohttp<4.0.0,>=3.8.3->langchain) (1.4.0)\n",
      "Requirement already satisfied: multidict<7.0,>=4.5 in c:\\users\\sravanthi\\anaconda3\\lib\\site-packages (from aiohttp<4.0.0,>=3.8.3->langchain) (6.0.4)\n",
      "Requirement already satisfied: yarl<2.0,>=1.0 in c:\\users\\sravanthi\\anaconda3\\lib\\site-packages (from aiohttp<4.0.0,>=3.8.3->langchain) (1.9.3)\n",
      "Requirement already satisfied: jsonpatch<2.0,>=1.33 in c:\\users\\sravanthi\\anaconda3\\lib\\site-packages (from langchain-core<0.4.0,>=0.3.0->langchain) (1.33)\n",
      "Requirement already satisfied: packaging<25,>=23.2 in c:\\users\\sravanthi\\anaconda3\\lib\\site-packages (from langchain-core<0.4.0,>=0.3.0->langchain) (23.2)\n",
      "Requirement already satisfied: typing-extensions>=4.7 in c:\\users\\sravanthi\\anaconda3\\lib\\site-packages (from langchain-core<0.4.0,>=0.3.0->langchain) (4.11.0)\n",
      "Requirement already satisfied: httpx<1,>=0.23.0 in c:\\users\\sravanthi\\anaconda3\\lib\\site-packages (from langsmith<0.2.0,>=0.1.17->langchain) (0.26.0)\n",
      "Requirement already satisfied: orjson<4.0.0,>=3.9.14 in c:\\users\\sravanthi\\anaconda3\\lib\\site-packages (from langsmith<0.2.0,>=0.1.17->langchain) (3.10.7)\n",
      "Requirement already satisfied: annotated-types>=0.6.0 in c:\\users\\sravanthi\\anaconda3\\lib\\site-packages (from pydantic<3.0.0,>=2.7.4->langchain) (0.6.0)\n",
      "Requirement already satisfied: pydantic-core==2.23.3 in c:\\users\\sravanthi\\anaconda3\\lib\\site-packages (from pydantic<3.0.0,>=2.7.4->langchain) (2.23.3)\n",
      "Requirement already satisfied: charset-normalizer<4,>=2 in c:\\users\\sravanthi\\anaconda3\\lib\\site-packages (from requests<3,>=2->langchain) (2.0.4)\n",
      "Requirement already satisfied: idna<4,>=2.5 in c:\\users\\sravanthi\\anaconda3\\lib\\site-packages (from requests<3,>=2->langchain) (3.7)\n",
      "Requirement already satisfied: urllib3<3,>=1.21.1 in c:\\users\\sravanthi\\anaconda3\\lib\\site-packages (from requests<3,>=2->langchain) (2.2.2)\n",
      "Requirement already satisfied: certifi>=2017.4.17 in c:\\users\\sravanthi\\anaconda3\\lib\\site-packages (from requests<3,>=2->langchain) (2024.7.4)\n",
      "Requirement already satisfied: greenlet!=0.4.17 in c:\\users\\sravanthi\\anaconda3\\lib\\site-packages (from SQLAlchemy<3,>=1.4->langchain) (3.0.1)\n",
      "Requirement already satisfied: anyio in c:\\users\\sravanthi\\anaconda3\\lib\\site-packages (from httpx<1,>=0.23.0->langsmith<0.2.0,>=0.1.17->langchain) (4.2.0)\n",
      "Requirement already satisfied: httpcore==1.* in c:\\users\\sravanthi\\anaconda3\\lib\\site-packages (from httpx<1,>=0.23.0->langsmith<0.2.0,>=0.1.17->langchain) (1.0.2)\n",
      "Requirement already satisfied: sniffio in c:\\users\\sravanthi\\anaconda3\\lib\\site-packages (from httpx<1,>=0.23.0->langsmith<0.2.0,>=0.1.17->langchain) (1.3.0)\n",
      "Requirement already satisfied: h11<0.15,>=0.13 in c:\\users\\sravanthi\\anaconda3\\lib\\site-packages (from httpcore==1.*->httpx<1,>=0.23.0->langsmith<0.2.0,>=0.1.17->langchain) (0.14.0)\n",
      "Requirement already satisfied: jsonpointer>=1.9 in c:\\users\\sravanthi\\anaconda3\\lib\\site-packages (from jsonpatch<2.0,>=1.33->langchain-core<0.4.0,>=0.3.0->langchain) (2.1)\n"
     ]
    }
   ],
   "source": [
    "!pip install langchain"
   ]
  },
  {
   "cell_type": "code",
   "execution_count": 9,
   "id": "b1c95b35-a9c8-4130-ba2c-8b175f5a6fb1",
   "metadata": {},
   "outputs": [],
   "source": [
    "import os\n",
    "os.environ['OPENAI_API_KEY']=\"api_key\""
   ]
  },
  {
   "cell_type": "code",
   "execution_count": null,
   "id": "7b9b7ed2-f278-47ac-a2a9-3b239172d3db",
   "metadata": {},
   "outputs": [],
   "source": [
    "# Importing OpenAI language model and chat prompt template utilities\n",
    "from langchain.llms import OpenAI\n",
    "from langchain.prompts import ChatPromptTemplate\n",
    "from langchain_openai import OpenAI\n"
   ]
  },
  {
   "cell_type": "code",
   "execution_count": 11,
   "id": "bd3b4de6-6d73-4bc8-93a8-4d8c71e287df",
   "metadata": {},
   "outputs": [],
   "source": [
    "model=OpenAI()"
   ]
  },
  {
   "cell_type": "code",
   "execution_count": 13,
   "id": "375bed16-6d3f-4d01-ab1c-6a74aff66c88",
   "metadata": {},
   "outputs": [],
   "source": [
    "# Creating a chat prompt template with system and human messages\n",
    "chat_template = ChatPromptTemplate.from_messages(\n",
    "    [\n",
    "        # System message setting the context for the AI's role as a chemistry teacher\n",
    "        (\"system\", \"You are a chemistry teacher. Your name is {name}.\"), \n",
    "        # Human message for greeting the AI\n",
    "        (\"human\", \"Hello, how are you doing?\"),\n",
    "        # AI's response to the greeting\n",
    "        (\"ai\", \"I'm doing well, thanks!\"),\n",
    "        # Placeholder for further user input\n",
    "        (\"human\", \"{user_input}\"),\n",
    "    ]\n",
    ")\n"
   ]
  },
  {
   "cell_type": "code",
   "execution_count": 15,
   "id": "f48ace8e-f7cf-4d68-a9bc-ce7a3682a8f9",
   "metadata": {},
   "outputs": [
    {
     "name": "stdout",
     "output_type": "stream",
     "text": [
      "content='you are a chemistry teacher.Your name is Vinay.' additional_kwargs={} response_metadata={}\n",
      "content='Hello, how are you doing?' additional_kwargs={} response_metadata={}\n",
      "content=\"I'm doing well,thanks!\" additional_kwargs={} response_metadata={}\n",
      "content='what is your name?' additional_kwargs={} response_metadata={}\n"
     ]
    }
   ],
   "source": [
    "# Formatting the chat template with specific values for name and user input\n",
    "formatted_messages = chat_template.format_messages(name=\"Vinay\", user_input=\"What is your name?\")\n",
    "# Printing each formatted message\n",
    "for message in formatted_messages:\n",
    "    print(message)\n"
   ]
  },
  {
   "cell_type": "code",
   "execution_count": 19,
   "id": "9d6ffc4e-4a6e-4e7f-a09b-e6db93faa7a0",
   "metadata": {},
   "outputs": [
    {
     "name": "stdout",
     "output_type": "stream",
     "text": [
      "\n",
      "AI: Sure, Newton's Laws of Motion are a set of three physical laws that describe the relationship between an object's motion and the forces acting on it. The first law, also known as the law of inertia, states that an object will remain at rest or in motion at a constant velocity unless acted upon by an external force. The second law, also known as the law of acceleration, states that the acceleration of an object is directly proportional to the net force acting on it and inversely proportional to its mass. Finally, the third law, also known as the law of action and reaction, states that for every action, there is an equal and opposite reaction. These laws are fundamental principles in the study of physics and have been instrumental in our understanding of the natural world.\n"
     ]
    }
   ],
   "source": [
    "# Combining the chat template with the model to create a prompt and model pipeline\n",
    "prompt_and_model = chat_template | model\n",
    "\n",
    "# Invoking the combined prompt and model with specific inputs for name and user question\n",
    "output = prompt_and_model.invoke({\"name\": \"sravanthi\", \"user_input\": \"Tell me about Newton's Laws of motion\"})\n",
    "\n",
    "# Printing the output generated by the model\n",
    "print(output)\n"
   ]
  },
  {
   "cell_type": "code",
   "execution_count": 31,
   "id": "25b4c403-a0e4-4a1c-afde-fd0c476febd6",
   "metadata": {},
   "outputs": [],
   "source": [
    "# Importing the CommaSeparatedListOutputParser for structured output parsing\n",
    "from langchain.output_parsers import CommaSeparatedListOutputParser\n",
    "from langchain.prompts import PromptTemplate\n",
    "\n",
    "# Initializing the output parser for a comma-separated list\n",
    "output_parser = CommaSeparatedListOutputParser()\n",
    "\n",
    "# Retrieving formatting instructions from the output parser\n",
    "format_instructions = output_parser.get_format_instructions()\n",
    "\n",
    "# Creating a prompt template for listing items based on a specified subject\n",
    "prompt = PromptTemplate(\n",
    "    template=\"List five {subject}.\\n{format_instructions}\",\n",
    "    input_variables=[\"subject\"],  # Note: corrected from \"sunject\" to \"subject\"\n",
    "    partial_variables={\"format_instructions\": format_instructions}\n",
    ")\n"
   ]
  },
  {
   "cell_type": "code",
   "execution_count": 35,
   "id": "2e4e7921-53ba-4651-87dc-2abeda681a86",
   "metadata": {},
   "outputs": [
    {
     "name": "stdout",
     "output_type": "stream",
     "text": [
      "['Mumbai Indians', 'Chennai Super Kings', 'Kolkata Knight Riders', 'Royal Challengers Bangalore', 'Delhi Capitals']\n"
     ]
    }
   ],
   "source": [
    "# Assuming you're using a parser that splits the model output into a list based on commas\n",
    "from langchain.output_parsers import CommaSeparatedListOutputParser\n",
    "\n",
    "# Instantiate the parser\n",
    "output_parser = CommaSeparatedListOutputParser()\n",
    "\n",
    "# Model's prompt and output\n",
    "query = \"Indian Premier League Teams\"\n",
    "output = model(prompt.format(subject=query))  # The model's output\n",
    "\n",
    "# Use the appropriate method to parse the output\n",
    "parsed_result = output_parser.parse(output)  # Use the parse method instead of calling it directly\n",
    "\n",
    "# Print the parsed result\n",
    "print(parsed_result)\n"
   ]
  },
  {
   "cell_type": "code",
   "execution_count": null,
   "id": "108e9067-8662-4d6a-ad84-e1a5ed8fdca8",
   "metadata": {},
   "outputs": [],
   "source": []
  }
 ],
 "metadata": {
  "kernelspec": {
   "display_name": "Python 3 (ipykernel)",
   "language": "python",
   "name": "python3"
  },
  "language_info": {
   "codemirror_mode": {
    "name": "ipython",
    "version": 3
   },
   "file_extension": ".py",
   "mimetype": "text/x-python",
   "name": "python",
   "nbconvert_exporter": "python",
   "pygments_lexer": "ipython3",
   "version": "3.12.4"
  }
 },
 "nbformat": 4,
 "nbformat_minor": 5
}
