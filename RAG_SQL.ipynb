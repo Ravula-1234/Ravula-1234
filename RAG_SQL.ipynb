{
 "cells": [
  {
   "cell_type": "markdown",
   "id": "3a7ee82d-6e58-41f5-8505-4adeebecad8f",
   "metadata": {},
   "source": [
    "# RAG-SQL"
   ]
  },
  {
   "cell_type": "markdown",
   "id": "0930ad05-6b18-4e45-bb05-fe39a7d91a41",
   "metadata": {},
   "source": [
    "# Installing Dependencies"
   ]
  },
  {
   "cell_type": "code",
   "execution_count": 1,
   "id": "09fb0d4b-45b5-470b-9b65-ba58655c8a47",
   "metadata": {},
   "outputs": [
    {
     "name": "stdout",
     "output_type": "stream",
     "text": [
      "Requirement already satisfied: langchain in c:\\users\\sravanthi\\anaconda3\\lib\\site-packages (0.3.0)\n",
      "Collecting langchain-experimental\n",
      "  Downloading langchain_experimental-0.3.0-py3-none-any.whl.metadata (1.7 kB)\n",
      "Requirement already satisfied: openai in c:\\users\\sravanthi\\anaconda3\\lib\\site-packages (1.45.0)\n",
      "Collecting pymysql\n",
      "  Downloading PyMySQL-1.1.1-py3-none-any.whl.metadata (4.4 kB)\n",
      "Requirement already satisfied: PyYAML>=5.3 in c:\\users\\sravanthi\\anaconda3\\lib\\site-packages (from langchain) (6.0.1)\n",
      "Requirement already satisfied: SQLAlchemy<3,>=1.4 in c:\\users\\sravanthi\\anaconda3\\lib\\site-packages (from langchain) (2.0.30)\n",
      "Requirement already satisfied: aiohttp<4.0.0,>=3.8.3 in c:\\users\\sravanthi\\anaconda3\\lib\\site-packages (from langchain) (3.9.5)\n",
      "Requirement already satisfied: langchain-core<0.4.0,>=0.3.0 in c:\\users\\sravanthi\\anaconda3\\lib\\site-packages (from langchain) (0.3.0)\n",
      "Requirement already satisfied: langchain-text-splitters<0.4.0,>=0.3.0 in c:\\users\\sravanthi\\anaconda3\\lib\\site-packages (from langchain) (0.3.0)\n",
      "Requirement already satisfied: langsmith<0.2.0,>=0.1.17 in c:\\users\\sravanthi\\anaconda3\\lib\\site-packages (from langchain) (0.1.120)\n",
      "Requirement already satisfied: numpy<2.0.0,>=1.26.0 in c:\\users\\sravanthi\\anaconda3\\lib\\site-packages (from langchain) (1.26.4)\n",
      "Requirement already satisfied: pydantic<3.0.0,>=2.7.4 in c:\\users\\sravanthi\\anaconda3\\lib\\site-packages (from langchain) (2.9.1)\n",
      "Requirement already satisfied: requests<3,>=2 in c:\\users\\sravanthi\\anaconda3\\lib\\site-packages (from langchain) (2.32.2)\n",
      "Requirement already satisfied: tenacity!=8.4.0,<9.0.0,>=8.1.0 in c:\\users\\sravanthi\\anaconda3\\lib\\site-packages (from langchain) (8.2.2)\n",
      "Requirement already satisfied: langchain-community<0.4.0,>=0.3.0 in c:\\users\\sravanthi\\anaconda3\\lib\\site-packages (from langchain-experimental) (0.3.0)\n",
      "Requirement already satisfied: anyio<5,>=3.5.0 in c:\\users\\sravanthi\\anaconda3\\lib\\site-packages (from openai) (4.2.0)\n",
      "Requirement already satisfied: distro<2,>=1.7.0 in c:\\users\\sravanthi\\anaconda3\\lib\\site-packages (from openai) (1.9.0)\n",
      "Requirement already satisfied: httpx<1,>=0.23.0 in c:\\users\\sravanthi\\anaconda3\\lib\\site-packages (from openai) (0.26.0)\n",
      "Requirement already satisfied: jiter<1,>=0.4.0 in c:\\users\\sravanthi\\anaconda3\\lib\\site-packages (from openai) (0.5.0)\n",
      "Requirement already satisfied: sniffio in c:\\users\\sravanthi\\anaconda3\\lib\\site-packages (from openai) (1.3.0)\n",
      "Requirement already satisfied: tqdm>4 in c:\\users\\sravanthi\\anaconda3\\lib\\site-packages (from openai) (4.66.4)\n",
      "Requirement already satisfied: typing-extensions<5,>=4.11 in c:\\users\\sravanthi\\anaconda3\\lib\\site-packages (from openai) (4.11.0)\n",
      "Requirement already satisfied: aiosignal>=1.1.2 in c:\\users\\sravanthi\\anaconda3\\lib\\site-packages (from aiohttp<4.0.0,>=3.8.3->langchain) (1.2.0)\n",
      "Requirement already satisfied: attrs>=17.3.0 in c:\\users\\sravanthi\\anaconda3\\lib\\site-packages (from aiohttp<4.0.0,>=3.8.3->langchain) (23.1.0)\n",
      "Requirement already satisfied: frozenlist>=1.1.1 in c:\\users\\sravanthi\\anaconda3\\lib\\site-packages (from aiohttp<4.0.0,>=3.8.3->langchain) (1.4.0)\n",
      "Requirement already satisfied: multidict<7.0,>=4.5 in c:\\users\\sravanthi\\anaconda3\\lib\\site-packages (from aiohttp<4.0.0,>=3.8.3->langchain) (6.0.4)\n",
      "Requirement already satisfied: yarl<2.0,>=1.0 in c:\\users\\sravanthi\\anaconda3\\lib\\site-packages (from aiohttp<4.0.0,>=3.8.3->langchain) (1.9.3)\n",
      "Requirement already satisfied: idna>=2.8 in c:\\users\\sravanthi\\anaconda3\\lib\\site-packages (from anyio<5,>=3.5.0->openai) (3.7)\n",
      "Requirement already satisfied: certifi in c:\\users\\sravanthi\\anaconda3\\lib\\site-packages (from httpx<1,>=0.23.0->openai) (2024.7.4)\n",
      "Requirement already satisfied: httpcore==1.* in c:\\users\\sravanthi\\anaconda3\\lib\\site-packages (from httpx<1,>=0.23.0->openai) (1.0.2)\n",
      "Requirement already satisfied: h11<0.15,>=0.13 in c:\\users\\sravanthi\\anaconda3\\lib\\site-packages (from httpcore==1.*->httpx<1,>=0.23.0->openai) (0.14.0)\n",
      "Requirement already satisfied: dataclasses-json<0.7,>=0.5.7 in c:\\users\\sravanthi\\anaconda3\\lib\\site-packages (from langchain-community<0.4.0,>=0.3.0->langchain-experimental) (0.6.7)\n",
      "Requirement already satisfied: pydantic-settings<3.0.0,>=2.4.0 in c:\\users\\sravanthi\\anaconda3\\lib\\site-packages (from langchain-community<0.4.0,>=0.3.0->langchain-experimental) (2.5.2)\n",
      "Requirement already satisfied: jsonpatch<2.0,>=1.33 in c:\\users\\sravanthi\\anaconda3\\lib\\site-packages (from langchain-core<0.4.0,>=0.3.0->langchain) (1.33)\n",
      "Requirement already satisfied: packaging<25,>=23.2 in c:\\users\\sravanthi\\anaconda3\\lib\\site-packages (from langchain-core<0.4.0,>=0.3.0->langchain) (23.2)\n",
      "Requirement already satisfied: orjson<4.0.0,>=3.9.14 in c:\\users\\sravanthi\\anaconda3\\lib\\site-packages (from langsmith<0.2.0,>=0.1.17->langchain) (3.10.7)\n",
      "Requirement already satisfied: annotated-types>=0.6.0 in c:\\users\\sravanthi\\anaconda3\\lib\\site-packages (from pydantic<3.0.0,>=2.7.4->langchain) (0.6.0)\n",
      "Requirement already satisfied: pydantic-core==2.23.3 in c:\\users\\sravanthi\\anaconda3\\lib\\site-packages (from pydantic<3.0.0,>=2.7.4->langchain) (2.23.3)\n",
      "Requirement already satisfied: charset-normalizer<4,>=2 in c:\\users\\sravanthi\\anaconda3\\lib\\site-packages (from requests<3,>=2->langchain) (2.0.4)\n",
      "Requirement already satisfied: urllib3<3,>=1.21.1 in c:\\users\\sravanthi\\anaconda3\\lib\\site-packages (from requests<3,>=2->langchain) (2.2.2)\n",
      "Requirement already satisfied: greenlet!=0.4.17 in c:\\users\\sravanthi\\anaconda3\\lib\\site-packages (from SQLAlchemy<3,>=1.4->langchain) (3.0.1)\n",
      "Requirement already satisfied: colorama in c:\\users\\sravanthi\\anaconda3\\lib\\site-packages (from tqdm>4->openai) (0.4.6)\n",
      "Requirement already satisfied: marshmallow<4.0.0,>=3.18.0 in c:\\users\\sravanthi\\anaconda3\\lib\\site-packages (from dataclasses-json<0.7,>=0.5.7->langchain-community<0.4.0,>=0.3.0->langchain-experimental) (3.22.0)\n",
      "Requirement already satisfied: typing-inspect<1,>=0.4.0 in c:\\users\\sravanthi\\anaconda3\\lib\\site-packages (from dataclasses-json<0.7,>=0.5.7->langchain-community<0.4.0,>=0.3.0->langchain-experimental) (0.9.0)\n",
      "Requirement already satisfied: jsonpointer>=1.9 in c:\\users\\sravanthi\\anaconda3\\lib\\site-packages (from jsonpatch<2.0,>=1.33->langchain-core<0.4.0,>=0.3.0->langchain) (2.1)\n",
      "Requirement already satisfied: python-dotenv>=0.21.0 in c:\\users\\sravanthi\\anaconda3\\lib\\site-packages (from pydantic-settings<3.0.0,>=2.4.0->langchain-community<0.4.0,>=0.3.0->langchain-experimental) (0.21.0)\n",
      "Requirement already satisfied: mypy-extensions>=0.3.0 in c:\\users\\sravanthi\\anaconda3\\lib\\site-packages (from typing-inspect<1,>=0.4.0->dataclasses-json<0.7,>=0.5.7->langchain-community<0.4.0,>=0.3.0->langchain-experimental) (1.0.0)\n",
      "Downloading langchain_experimental-0.3.0-py3-none-any.whl (206 kB)\n",
      "   ---------------------------------------- 0.0/206.9 kB ? eta -:--:--\n",
      "   - -------------------------------------- 10.2/206.9 kB ? eta -:--:--\n",
      "   ----- --------------------------------- 30.7/206.9 kB 435.7 kB/s eta 0:00:01\n",
      "   ------------------ ------------------- 102.4/206.9 kB 991.0 kB/s eta 0:00:01\n",
      "   ---------------------------------------- 206.9/206.9 kB 1.4 MB/s eta 0:00:00\n",
      "Downloading PyMySQL-1.1.1-py3-none-any.whl (44 kB)\n",
      "   ---------------------------------------- 0.0/45.0 kB ? eta -:--:--\n",
      "   ---------------------------------------- 45.0/45.0 kB 2.2 MB/s eta 0:00:00\n",
      "Installing collected packages: pymysql, langchain-experimental\n",
      "Successfully installed langchain-experimental-0.3.0 pymysql-1.1.1\n"
     ]
    }
   ],
   "source": [
    "!pip install langchain langchain-experimental openai pymysql"
   ]
  },
  {
   "cell_type": "markdown",
   "id": "1cc4cbac-3884-4841-9d9f-e555eb8373d8",
   "metadata": {},
   "source": [
    "# Importing necessary Packages"
   ]
  },
  {
   "cell_type": "code",
   "execution_count": 25,
   "id": "88a5a2af-8295-4d89-82db-037be77d0d47",
   "metadata": {},
   "outputs": [],
   "source": [
    "from langchain.utilities import SQLDatabase\n",
    "from langchain.llms import OpenAI\n",
    "from langchain_experimental.sql import SQLDatabaseChain\n",
    "from langchain.prompts import PromptTemplate\n",
    "from langchain.chat_models import ChatOpenAI\n",
    "from langchain.schema import HumanMessage,SystemMessage\n",
    "from langchain.prompts.chat import HumanMessagePromptTemplate"
   ]
  },
  {
   "cell_type": "markdown",
   "id": "eaa8dee8-6eab-490a-bda1-5911f12af304",
   "metadata": {},
   "source": [
    "# Initialize the LLM"
   ]
  },
  {
   "cell_type": "code",
   "execution_count": 3,
   "id": "cb6cb8af-55df-4b84-a106-942f9388325b",
   "metadata": {},
   "outputs": [
    {
     "name": "stderr",
     "output_type": "stream",
     "text": [
      "C:\\Users\\sravanthi\\AppData\\Local\\Temp\\ipykernel_21816\\576305831.py:2: LangChainDeprecationWarning: The class `ChatOpenAI` was deprecated in LangChain 0.0.10 and will be removed in 1.0. An updated version of the class exists in the langchain-openai package and should be used instead. To use it run `pip install -U langchain-openai` and import as `from langchain_openai import ChatOpenAI`.\n",
      "  llm=ChatOpenAI(temperature=0,openai_api_key=OPEN_API_KEY)\n"
     ]
    }
   ],
   "source": [
    "OPEN_API_KEY=\"Api_key\"\n",
    "llm=ChatOpenAI(temperature=0,openai_api_key=OPEN_API_KEY)"
   ]
  },
  {
   "cell_type": "markdown",
   "id": "2a25409c-d047-405d-973b-98d8301e00a3",
   "metadata": {},
   "source": [
    "# DataBase Setup"
   ]
  },
  {
   "cell_type": "code",
   "execution_count": 5,
   "id": "ddf8c921-7827-4fe7-bb7a-a324a8840d11",
   "metadata": {},
   "outputs": [],
   "source": [
    "# Database connection details such as host, port, username, password, and schema are set for MySQL connection\n",
    "host='localhost'\n",
    "port='3306'\n",
    "username='root'\n",
    "password='12345'\n",
    "database_schema='movies'\n",
    "\n",
    "# Forming the MySQL URI string for connecting to the database using pymysql\n",
    "mysql_uri= f\"mysql+pymysql://{username}:{password}@{host}:{port}/movies\"\n",
    "\n",
    "# Creating an SQLDatabase object from the given URI and including the 'telugumovies_dataset' table with sample rows for metadata\n",
    "db=SQLDatabase.from_uri(mysql_uri,include_tables=['telugumovies_dataset'],sample_rows_in_table_info=2)\n",
    "\n",
    "# Creating an SQLDatabaseChain object with the specified language model (llm) and database connection (db), with verbose mode enabled for detailed output\n",
    "db_chain=SQLDatabaseChain.from_llm(llm,db,verbose=True)\n"
   ]
  },
  {
   "cell_type": "code",
   "execution_count": 7,
   "id": "0147527b-c4cb-4361-b8de-35bc8ae9c21a",
   "metadata": {},
   "outputs": [],
   "source": [
    "# Function to execute a query on the SQLDatabaseChain and return the result as a string\n",
    "def retrieve_from_db(query: str) -> str:\n",
    "    # Executing the query using the db_chain object\n",
    "    db_context = db_chain(query)\n",
    "    \n",
    "    # Extracting and trimming the 'result' from the returned context\n",
    "    db_context = db_context['result'].strip()\n",
    "    \n",
    "    # Returning the cleaned result as a string\n",
    "    return db_context\n"
   ]
  },
  {
   "cell_type": "markdown",
   "id": "13dd69e2-043f-402d-a461-8f40289a3303",
   "metadata": {},
   "source": [
    "# Returning the Results"
   ]
  },
  {
   "cell_type": "code",
   "execution_count": 27,
   "id": "0c35e9a9-e973-4ea9-b40e-89d1209a25c2",
   "metadata": {},
   "outputs": [],
   "source": [
    "# Function to generate a response for a user's query related to Telugu movies using the database and an LLM\n",
    "def generate(query: str) -> str:\n",
    "    # Retrieve the relevant data from the database based on the query\n",
    "    db_context = retrieve_from_db(query)\n",
    "    \n",
    "    # Define the system message that sets the context for the LLM to act as a Telugu movie database expert\n",
    "    system_message = \"\"\"\n",
    "    You are a movie database expert specializing in Telugu cinema. \n",
    "    Your task is to answer users' questions by providing relevant information from the database of Telugu movies.\n",
    "    The database contains the following information for each movie:\n",
    "      - Name of the movie\n",
    "      - Year of release\n",
    "      - Certificate given by the censor board\n",
    "      - Movie genre\n",
    "      - A brief description or plot of the movie\n",
    "      - Duration in minutes\n",
    "      - IMDb rating\n",
    "      - Number of people who rated the movie\n",
    "\n",
    "    Example:\n",
    "    Input:\n",
    "    Which Telugu movie released in 2021 has the highest IMDb ratings?\n",
    "    \n",
    "    Context:\n",
    "    The Telugu movies released in 2021 with the highest IMDb ratings are:\n",
    "    1. Movie A - IMDb rating: 8.5\n",
    "    2. Movie B - IMDb rating: 8.3\n",
    "    \n",
    "    Output:\n",
    "    The highest-rated Telugu movies released in 2021 are Movie A (IMDb rating: 8.5) and Movie B (IMDb rating: 8.3).\n",
    "    \"\"\"\n",
    "    \n",
    "    # Creating a template for the human message prompt, combining user input and database context\n",
    "    human_qry_template = HumanMessagePromptTemplate.from_template(\"\"\"\n",
    "    Input: {human_input}\n",
    "    Context: {db_context}\n",
    "    Output:\n",
    "    \"\"\")\n",
    "    \n",
    "    # Preparing the messages for the LLM with the system message and the formatted human query template\n",
    "    messages = [\n",
    "        SystemMessage(content=system_message),\n",
    "        human_qry_template.format(human_input=query, db_context=db_context)\n",
    "    ]\n",
    "    \n",
    "    # Generate the response using the LLM with the provided messages\n",
    "    response = llm(messages).content\n",
    "    \n",
    "    # Return the generated response\n",
    "    return response\n"
   ]
  },
  {
   "cell_type": "markdown",
   "id": "f1adcaf0-c065-4d0d-8e89-4d40b8a55f55",
   "metadata": {},
   "source": [
    "# Generate and Return the responses"
   ]
  },
  {
   "cell_type": "code",
   "execution_count": 29,
   "id": "783435d9-f08a-44b2-a54a-0b9e33f22542",
   "metadata": {},
   "outputs": [
    {
     "name": "stderr",
     "output_type": "stream",
     "text": [
      "Error in StdOutCallbackHandler.on_chain_start callback: AttributeError(\"'NoneType' object has no attribute 'get'\")\n"
     ]
    },
    {
     "name": "stdout",
     "output_type": "stream",
     "text": [
      "How many movies are there?\n",
      "SQLQuery:\u001b[32;1m\u001b[1;3mSELECT COUNT(`Movie`) AS TotalMovies FROM telugumovies_dataset;\u001b[0m\n",
      "SQLResult: \u001b[33;1m\u001b[1;3m[(1350,)]\u001b[0m\n",
      "Answer:\u001b[32;1m\u001b[1;3mThere are 1350 movies in the dataset.\u001b[0m\n",
      "\u001b[1m> Finished chain.\u001b[0m\n"
     ]
    },
    {
     "data": {
      "text/plain": [
       "'There are 1350 movies in the dataset.'"
      ]
     },
     "execution_count": 29,
     "metadata": {},
     "output_type": "execute_result"
    }
   ],
   "source": [
    "generate(\"How many movies are there?\")"
   ]
  },
  {
   "cell_type": "code",
   "execution_count": 31,
   "id": "9bf27fa9-7b35-4101-ae31-0e0288476fa2",
   "metadata": {},
   "outputs": [
    {
     "name": "stderr",
     "output_type": "stream",
     "text": [
      "Error in StdOutCallbackHandler.on_chain_start callback: AttributeError(\"'NoneType' object has no attribute 'get'\")\n"
     ]
    },
    {
     "name": "stdout",
     "output_type": "stream",
     "text": [
      "which movie have highest rating in 2021?\n",
      "SQLQuery:\u001b[32;1m\u001b[1;3mSELECT `Movie`, `Rating`\n",
      "FROM telugumovies_dataset\n",
      "WHERE `Year` = 2021\n",
      "ORDER BY `Rating` DESC\n",
      "LIMIT 1;\u001b[0m\n",
      "SQLResult: \u001b[33;1m\u001b[1;3m\u001b[0m\n",
      "Answer:\u001b[32;1m\u001b[1;3mBaahubali 2: The Conclusion\u001b[0m\n",
      "\u001b[1m> Finished chain.\u001b[0m\n"
     ]
    },
    {
     "data": {
      "text/plain": [
       "\"I'm sorry, but I need more information to provide an accurate answer. Can you please specify if you are asking about the highest-rated movie in general or the highest-rated Telugu movie released in 2021?\""
      ]
     },
     "execution_count": 31,
     "metadata": {},
     "output_type": "execute_result"
    }
   ],
   "source": [
    "generate(\"which movie have highest rating in 2021?\")"
   ]
  },
  {
   "cell_type": "code",
   "execution_count": 33,
   "id": "c557bf77-85cf-41c6-be83-d41eca2fa7df",
   "metadata": {},
   "outputs": [
    {
     "name": "stderr",
     "output_type": "stream",
     "text": [
      "Error in StdOutCallbackHandler.on_chain_start callback: AttributeError(\"'NoneType' object has no attribute 'get'\")\n"
     ]
    },
    {
     "name": "stdout",
     "output_type": "stream",
     "text": [
      "According to IMDb rating suggest the best movie to watch?\n",
      "SQLQuery:\u001b[32;1m\u001b[1;3mSELECT `Movie`, `Rating` \n",
      "FROM telugumovies_dataset \n",
      "ORDER BY `Rating` DESC \n",
      "LIMIT 1;\u001b[0m\n",
      "SQLResult: \u001b[33;1m\u001b[1;3m[('Pichhodu', 9.5)]\u001b[0m\n",
      "Answer:\u001b[32;1m\u001b[1;3mPichhodu\u001b[0m\n",
      "\u001b[1m> Finished chain.\u001b[0m\n"
     ]
    },
    {
     "data": {
      "text/plain": [
       "\"I'm sorry, but I need more information to provide a recommendation based on IMDb ratings. Could you please provide me with a list of Telugu movies along with their IMDb ratings?\""
      ]
     },
     "execution_count": 33,
     "metadata": {},
     "output_type": "execute_result"
    }
   ],
   "source": [
    "generate(\"According to IMDb rating suggest the best movie to watch?\")"
   ]
  },
  {
   "cell_type": "code",
   "execution_count": null,
   "id": "c454a0fb-b781-4f95-9b4b-c97f3e2fa268",
   "metadata": {},
   "outputs": [],
   "source": []
  }
 ],
 "metadata": {
  "kernelspec": {
   "display_name": "Python 3 (ipykernel)",
   "language": "python",
   "name": "python3"
  },
  "language_info": {
   "codemirror_mode": {
    "name": "ipython",
    "version": 3
   },
   "file_extension": ".py",
   "mimetype": "text/x-python",
   "name": "python",
   "nbconvert_exporter": "python",
   "pygments_lexer": "ipython3",
   "version": "3.12.4"
  }
 },
 "nbformat": 4,
 "nbformat_minor": 5
}
