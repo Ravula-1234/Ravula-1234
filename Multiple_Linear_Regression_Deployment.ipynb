{
  "nbformat": 4,
  "nbformat_minor": 0,
  "metadata": {
    "colab": {
      "private_outputs": true,
      "provenance": []
    },
    "kernelspec": {
      "name": "python3",
      "display_name": "Python 3"
    },
    "language_info": {
      "name": "python"
    }
  },
  "cells": [
    {
      "cell_type": "code",
      "execution_count": null,
      "metadata": {
        "id": "d4ObjubbayAu"
      },
      "outputs": [],
      "source": [
        "import pandas as pd\n",
        "import numpy as np\n",
        "dataset = pd.read_csv('/content/Advertising.csv')\n",
        "dataset.head()"
      ]
    },
    {
      "cell_type": "markdown",
      "source": [
        "Data Analysis and Assumptions"
      ],
      "metadata": {
        "id": "1sm568S2h_36"
      }
    },
    {
      "cell_type": "code",
      "source": [
        "!pip install ydata_profiling"
      ],
      "metadata": {
        "id": "jYK8TjepbED6"
      },
      "execution_count": null,
      "outputs": []
    },
    {
      "cell_type": "code",
      "source": [
        "from ydata_profiling import ProfileReport\n",
        "profile = ProfileReport(dataset)\n",
        "profile.to_file(output_file='report.html')"
      ],
      "metadata": {
        "id": "97vtwS3TbNhc"
      },
      "execution_count": null,
      "outputs": []
    },
    {
      "cell_type": "code",
      "source": [
        "from sklearn.model_selection import train_test_split\n",
        "\n",
        "x = dataset[['TV', 'Radio', 'Newspaper']]\n",
        "y = dataset['Sales']"
      ],
      "metadata": {
        "id": "y53OA11Cbrni"
      },
      "execution_count": null,
      "outputs": []
    },
    {
      "cell_type": "code",
      "source": [
        "x_train, x_test, y_train, y_test = train_test_split(x, y, test_size=0.2, random_state=0)"
      ],
      "metadata": {
        "id": "c_AmmOhXb2hs"
      },
      "execution_count": null,
      "outputs": []
    },
    {
      "cell_type": "markdown",
      "source": [
        "we have trained the model"
      ],
      "metadata": {
        "id": "lIzp9UtLcHqh"
      }
    },
    {
      "cell_type": "code",
      "source": [
        "from sklearn.linear_model import LinearRegression\n",
        "model = LinearRegression()\n",
        "model.fit(x_train, y_train)"
      ],
      "metadata": {
        "id": "EBnKJKoDb_dX"
      },
      "execution_count": null,
      "outputs": []
    },
    {
      "cell_type": "markdown",
      "source": [
        "Predict Method"
      ],
      "metadata": {
        "id": "q_hRKcmZgs2A"
      }
    },
    {
      "cell_type": "code",
      "source": [
        "def predict(TV, Radio, Newspaper):\n",
        "    input_data = np.array([[TV, Radio, Newspaper]])\n",
        "    prediction = model.predict(input_data)\n",
        "    return prediction[0]"
      ],
      "metadata": {
        "id": "33ugW3bgcLYX"
      },
      "execution_count": null,
      "outputs": []
    },
    {
      "cell_type": "code",
      "source": [
        "!pip install gradio"
      ],
      "metadata": {
        "id": "HnVyvMAxcW56"
      },
      "execution_count": null,
      "outputs": []
    },
    {
      "cell_type": "code",
      "source": [
        "!pip install lime shap"
      ],
      "metadata": {
        "id": "6y5-TAZRgXyw"
      },
      "execution_count": null,
      "outputs": []
    },
    {
      "cell_type": "markdown",
      "source": [
        "Explainability"
      ],
      "metadata": {
        "id": "jIEEPUljgnDk"
      }
    },
    {
      "cell_type": "code",
      "source": [
        "import shap\n",
        "explainer = shap.LinearExplainer(model, x_train)\n",
        "shap_values = explainer.shap_values(x_train)\n",
        "shap.summary_plot(shap_values, x_train)"
      ],
      "metadata": {
        "id": "PCimWWV-gf02"
      },
      "execution_count": null,
      "outputs": []
    },
    {
      "cell_type": "markdown",
      "source": [
        "Deployment"
      ],
      "metadata": {
        "id": "tLqbGgdegwGr"
      }
    },
    {
      "cell_type": "code",
      "source": [
        "import gradio as gr\n",
        "interface = gr.Interface(fn=predict, inputs=['number', 'number', 'number'], outputs='number')\n",
        "interface.launch()"
      ],
      "metadata": {
        "id": "nsGQBWJ8ce4M"
      },
      "execution_count": null,
      "outputs": []
    },
    {
      "cell_type": "code",
      "source": [],
      "metadata": {
        "id": "a-9TUrS4gz-y"
      },
      "execution_count": null,
      "outputs": []
    },
    {
      "cell_type": "markdown",
      "source": [
        "Accessing API"
      ],
      "metadata": {
        "id": "ugRpwwHtg0jQ"
      }
    },
    {
      "cell_type": "code",
      "source": [
        "from gradio_client import Client\n",
        "\n",
        "client = Client(\"https://7869e7e02510cff449.gradio.live/\")\n",
        "result = client.predict(\n",
        "\t\tTV=300,\n",
        "\t\tRadio=30,\n",
        "\t\tNewspaper=30000,\n",
        "\t\tapi_name=\"/predict\"\n",
        ")\n",
        "print(result)"
      ],
      "metadata": {
        "id": "ojat9KWIc0EG"
      },
      "execution_count": null,
      "outputs": []
    },
    {
      "cell_type": "markdown",
      "source": [
        "Statistical Analaysis"
      ],
      "metadata": {
        "id": "SnWsONjkg3Eh"
      }
    },
    {
      "cell_type": "code",
      "source": [
        "\n",
        "import statsmodels.api as sm\n",
        "x = sm.add_constant(x)\n",
        "model = sm.OLS(y, x).fit()\n",
        "print(model.summary())"
      ],
      "metadata": {
        "id": "-haGdcIpc5fL"
      },
      "execution_count": null,
      "outputs": []
    },
    {
      "cell_type": "markdown",
      "source": [
        "Error Metrics"
      ],
      "metadata": {
        "id": "wZzk0pbPg6sY"
      }
    },
    {
      "cell_type": "code",
      "source": [
        "from sklearn.metrics import r2_score\n",
        "y_pred = model.predict(x)\n",
        "r2 = r2_score(y, y_pred)\n",
        "print(\"R-squared:\", r2)"
      ],
      "metadata": {
        "id": "Z68qgAkEdzof"
      },
      "execution_count": null,
      "outputs": []
    },
    {
      "cell_type": "code",
      "source": [
        "from sklearn.metrics import mean_squared_error\n",
        "mse = mean_squared_error(y, y_pred)\n",
        "print(\"Mean Squared Error:\", mse)"
      ],
      "metadata": {
        "id": "j0JJX64md7iK"
      },
      "execution_count": null,
      "outputs": []
    },
    {
      "cell_type": "markdown",
      "source": [
        "Prediction Analaysis"
      ],
      "metadata": {
        "id": "mHUQJGP7hX6d"
      }
    },
    {
      "cell_type": "code",
      "source": [
        "plot_df = pd.DataFrame({'Actual': y, 'Predicted': y_pred})\n",
        "import matplotlib.pyplot as plt\n",
        "plt.scatter(plot_df['Actual'], plot_df['Predicted'])\n",
        "plt.xlabel('Actual')\n",
        "plt.ylabel('Predicted')\n",
        "plt.title('Actual vs Predicted')\n",
        "plt.show()"
      ],
      "metadata": {
        "id": "NX6YQI9ahLFI"
      },
      "execution_count": null,
      "outputs": []
    },
    {
      "cell_type": "code",
      "source": [
        "from sklearn.preprocessing import StandardScaler\n",
        "scaler = StandardScaler()\n",
        "x_scaled = scaler.fit_transform(x)"
      ],
      "metadata": {
        "id": "3dBR9JI5eZyX"
      },
      "execution_count": null,
      "outputs": []
    },
    {
      "cell_type": "code",
      "source": [
        "y_scaled = scaler.fit_transform(y.values.reshape(-1, 1))"
      ],
      "metadata": {
        "id": "QjwT7yYOeeRP"
      },
      "execution_count": null,
      "outputs": []
    },
    {
      "cell_type": "code",
      "source": [],
      "metadata": {
        "id": "0XgtZsuzeiCo"
      },
      "execution_count": null,
      "outputs": []
    },
    {
      "cell_type": "code",
      "source": [
        "\n",
        "import statsmodels.api as sm\n",
        "x_scaled = sm.add_constant(x_scaled)\n",
        "model = sm.OLS(y_scaled, x_scaled).fit()\n",
        "print(model.summary())"
      ],
      "metadata": {
        "id": "2cKOH6Wweojo"
      },
      "execution_count": null,
      "outputs": []
    },
    {
      "cell_type": "code",
      "source": [
        "from sklearn.metrics import r2_score\n",
        "y_pred = model.predict(x)\n",
        "r2 = r2_score(y, y_pred)\n",
        "print(\"R-squared:\", r2)"
      ],
      "metadata": {
        "id": "mKe6CQ6Xevvc"
      },
      "execution_count": null,
      "outputs": []
    },
    {
      "cell_type": "code",
      "source": [
        "from sklearn.metrics import mean_squared_error\n",
        "mse = mean_squared_error(y, y_pred)\n",
        "print(\"Mean Squared Error:\", mse)"
      ],
      "metadata": {
        "id": "fDgYztsbe3uM"
      },
      "execution_count": null,
      "outputs": []
    }
  ]
}