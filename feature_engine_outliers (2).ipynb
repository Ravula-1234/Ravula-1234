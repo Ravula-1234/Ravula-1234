{
  "nbformat": 4,
  "nbformat_minor": 0,
  "metadata": {
    "colab": {
      "private_outputs": true,
      "provenance": []
    },
    "kernelspec": {
      "name": "python3",
      "display_name": "Python 3"
    },
    "language_info": {
      "name": "python"
    }
  },
  "cells": [
    {
      "cell_type": "code",
      "source": [
        "!pip install feature-engine -q`"
      ],
      "metadata": {
        "id": "5Y9ZSF-N9gvI"
      },
      "execution_count": null,
      "outputs": []
    },
    {
      "cell_type": "code",
      "execution_count": null,
      "metadata": {
        "id": "iwZy98fG9RkI"
      },
      "outputs": [],
      "source": [
        "from sklearn.model_selection import train_test_split\n",
        "from feature_engine.datasets import load_titanic\n",
        "from feature_engine.outliers import Winsorizer"
      ]
    },
    {
      "cell_type": "code",
      "source": [
        "data = load_titanic()"
      ],
      "metadata": {
        "id": "wA-3SOBk-0M5"
      },
      "execution_count": null,
      "outputs": []
    },
    {
      "cell_type": "code",
      "source": [
        "data"
      ],
      "metadata": {
        "id": "uJ3i4lnIU4US"
      },
      "execution_count": null,
      "outputs": []
    },
    {
      "cell_type": "code",
      "source": [
        "data.info()"
      ],
      "metadata": {
        "id": "zcq9hUYA-z-E"
      },
      "execution_count": null,
      "outputs": []
    },
    {
      "cell_type": "code",
      "source": [
        "X,y = load_titanic(return_X_y_frame =True,\n",
        "                   handle_missing=True,\n",
        "                   predictors_only=True\n",
        "                   )"
      ],
      "metadata": {
        "id": "bBb3k5x7-MT2"
      },
      "execution_count": null,
      "outputs": []
    },
    {
      "cell_type": "code",
      "source": [
        "X_train,X_test, y_train,y_test = train_test_split(X,y, test_size=0.3,random_state=0)"
      ],
      "metadata": {
        "id": "Nbjy0ar_-Ylc"
      },
      "execution_count": null,
      "outputs": []
    },
    {
      "cell_type": "code",
      "source": [
        "X_train.age.max()"
      ],
      "metadata": {
        "id": "VMzGMrlZ-p2k"
      },
      "execution_count": null,
      "outputs": []
    },
    {
      "cell_type": "code",
      "source": [
        "X_train.age.min()"
      ],
      "metadata": {
        "id": "TqquyI5J-unk"
      },
      "execution_count": null,
      "outputs": []
    },
    {
      "cell_type": "code",
      "source": [
        "import matplotlib.pyplot as plt\n",
        "import seaborn as sns"
      ],
      "metadata": {
        "id": "h_HPGpLX-Z5q"
      },
      "execution_count": null,
      "outputs": []
    },
    {
      "cell_type": "code",
      "source": [
        "def box_plot(data,col):\n",
        "  plt.figure(figsize=(8,5))\n",
        "  sns.boxplot(data[col]);"
      ],
      "metadata": {
        "id": "eoFwBGY9_K-i"
      },
      "execution_count": null,
      "outputs": []
    },
    {
      "cell_type": "code",
      "source": [
        "box_plot(data,'age');"
      ],
      "metadata": {
        "id": "ec1PJ8-n_3Or"
      },
      "execution_count": null,
      "outputs": []
    },
    {
      "cell_type": "code",
      "source": [
        "box_plot(data,'fare')"
      ],
      "metadata": {
        "id": "4XO43CImAUT2"
      },
      "execution_count": null,
      "outputs": []
    },
    {
      "cell_type": "code",
      "source": [
        "X_train.fare.max()\n"
      ],
      "metadata": {
        "id": "JAv8RfUvdVHi"
      },
      "execution_count": null,
      "outputs": []
    },
    {
      "cell_type": "code",
      "source": [
        "X_train.fare.min()"
      ],
      "metadata": {
        "id": "VH0euHyvdXz6"
      },
      "execution_count": null,
      "outputs": []
    },
    {
      "cell_type": "code",
      "source": [
        "winsor = Winsorizer(capping_method = 'quantiles', tail='both',variables=['age','fare'])"
      ],
      "metadata": {
        "id": "Bts8uBH9AaMd"
      },
      "execution_count": null,
      "outputs": []
    },
    {
      "cell_type": "code",
      "source": [
        "winsor.fit(X_train)"
      ],
      "metadata": {
        "id": "pX0YXEHrA3K1"
      },
      "execution_count": null,
      "outputs": []
    },
    {
      "cell_type": "code",
      "source": [
        "winsor.left_tail_caps_"
      ],
      "metadata": {
        "id": "E0VPC9NvA7JR"
      },
      "execution_count": null,
      "outputs": []
    },
    {
      "cell_type": "code",
      "source": [
        "winsor.right_tail_caps_"
      ],
      "metadata": {
        "id": "BLoQ0Rn1BFyt"
      },
      "execution_count": null,
      "outputs": []
    },
    {
      "cell_type": "code",
      "source": [
        "clearned_data = winsor.transform(X_train)"
      ],
      "metadata": {
        "id": "cspXy2gYBK51"
      },
      "execution_count": null,
      "outputs": []
    },
    {
      "cell_type": "code",
      "source": [
        "clearned_data.age.max()"
      ],
      "metadata": {
        "id": "TbM__99CBQrK"
      },
      "execution_count": null,
      "outputs": []
    },
    {
      "cell_type": "code",
      "source": [
        "clearned_data.age.min()"
      ],
      "metadata": {
        "id": "KTSQmhnwBWat"
      },
      "execution_count": null,
      "outputs": []
    },
    {
      "cell_type": "code",
      "source": [
        "clearned_data.fare.min()"
      ],
      "metadata": {
        "id": "WHq3GUKoBi5S"
      },
      "execution_count": null,
      "outputs": []
    },
    {
      "cell_type": "code",
      "source": [
        "clearned_data.fare.max()"
      ],
      "metadata": {
        "id": "b1K0ZlLRC5ze"
      },
      "execution_count": null,
      "outputs": []
    },
    {
      "cell_type": "code",
      "source": [],
      "metadata": {
        "id": "bQlfw_arB92W"
      },
      "execution_count": null,
      "outputs": []
    },
    {
      "cell_type": "code",
      "source": [
        "clearned_data.fare.max()"
      ],
      "metadata": {
        "id": "zoeqEKTXBpl9"
      },
      "execution_count": null,
      "outputs": []
    },
    {
      "cell_type": "code",
      "source": [
        "box_plot(clearned_data,'fare')"
      ],
      "metadata": {
        "id": "26_RKE3cB40c"
      },
      "execution_count": null,
      "outputs": []
    },
    {
      "cell_type": "markdown",
      "source": [
        "Outlier Removal"
      ],
      "metadata": {
        "id": "MbobZ6xpFcvz"
      }
    },
    {
      "cell_type": "code",
      "source": [
        "from feature_engine.outliers import OutlierTrimmer"
      ],
      "metadata": {
        "id": "2mPfJcQpEe1f"
      },
      "execution_count": null,
      "outputs": []
    },
    {
      "cell_type": "code",
      "source": [],
      "metadata": {
        "id": "omuj3o0cd3S4"
      },
      "execution_count": null,
      "outputs": []
    },
    {
      "cell_type": "code",
      "source": [
        "out_trimmer =OutlierTrimmer(capping_method='quantiles', tail='both',variables=['age','fare'])"
      ],
      "metadata": {
        "id": "tBnBsE7tEl0k"
      },
      "execution_count": null,
      "outputs": []
    },
    {
      "cell_type": "code",
      "source": [
        "out_trimmer.fit(X_train)"
      ],
      "metadata": {
        "id": "-Tq1UlkcE31a"
      },
      "execution_count": null,
      "outputs": []
    },
    {
      "cell_type": "code",
      "source": [
        "Removed_data = out_trimmer.transform(X_train)"
      ],
      "metadata": {
        "id": "U1OZ3gw1E_vQ"
      },
      "execution_count": null,
      "outputs": []
    },
    {
      "cell_type": "code",
      "source": [
        "box_plot(Removed_data,'fare')"
      ],
      "metadata": {
        "id": "1LWUNku5d6_E"
      },
      "execution_count": null,
      "outputs": []
    },
    {
      "cell_type": "code",
      "source": [
        "print('intial data set size is : ', X_train.shape)\n",
        "print('intial data set size is : ', Removed_data.shape)"
      ],
      "metadata": {
        "id": "qsRIqasAFIhb"
      },
      "execution_count": null,
      "outputs": []
    },
    {
      "cell_type": "markdown",
      "source": [
        "Hence Outlier Trimmer removed outliers"
      ],
      "metadata": {
        "id": "fH9QdLbbFVBD"
      }
    },
    {
      "cell_type": "code",
      "source": [],
      "metadata": {
        "id": "deIwVhg8FUWt"
      },
      "execution_count": null,
      "outputs": []
    }
  ]
}